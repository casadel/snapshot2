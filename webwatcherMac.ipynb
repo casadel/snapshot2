{
 "cells": [
  {
   "cell_type": "code",
   "execution_count": null,
   "metadata": {
    "collapsed": true
   },
   "outputs": [],
   "source": [
    "import itertools\n",
    "from bs4 import BeautifulSoup\n",
    "import sys\n",
    "import time\n",
    "import requests\n",
    "import os\n",
    "import datetime\n",
    "import threading\n",
    "import winsound\n",
    "\n",
    "def get_nypost(soup):\n",
    "    article = soup.find('item')\n",
    "    link = article.find('link').text\n",
    "    authors = article.find('dc:creator').text.split(', ')\n",
    "    damelos = ['Josh Kosman', 'Claire Atkinson', 'Associated Press']\n",
    "    if any(damelo in authors for damelo in damelos):\n",
    "        return link\n",
    "    else:\n",
    "        return False\n",
    "\n",
    "def get_rss(soup):\n",
    "    article = soup.find('item')\n",
    "    link = article.find('link').text\n",
    "    return link\n",
    "\n",
    "def get_gotham(soup):\n",
    "    article = soup.find('article')\n",
    "    link = article.find('a')['href']\n",
    "    return link\n",
    "\n",
    "def get_street(soup):\n",
    "    article = soup.find_all('div', {'class': 'news-list__item'})[0]\n",
    "    link = article.find('a')['href']\n",
    "    author = article.find_all('div', {'class': 'news-list__author-name'})[0].text\n",
    "    damelo = 'Adam Feuerstein'\n",
    "    if author == damelo:\n",
    "        return link\n",
    "    else:\n",
    "        return False\n",
    "\n",
    "def loop(watcher):\n",
    "    while True:\n",
    "        try:\n",
    "            headers = {\n",
    "            'User-Agent': 'Mozilla/5.0 (Macintosh; Intel Mac OS X 10_12_2) AppleWebKit/537.36 (KHTML, like Gecko) Chrome/55.0.2883.95 Safari/537.36'\n",
    "            }\n",
    "            page = requests.get(watcher['url'], headers=headers)\n",
    "            soup = BeautifulSoup(page.text, 'html.parser')\n",
    "            link = watcher['selector'](soup)\n",
    "        except Exception as e:\n",
    "            print 'Scraping %s failed for some reason' %watcher['url']\n",
    "            link = False\n",
    "        if len(watcher['last_link'].keys()) > 0 and link not in watcher['last_link'] and link:\n",
    "            cmd = 'open \"%s\"' %link\n",
    "            os.system(cmd)\n",
    "            winsound.Beep(440, 500)\n",
    "            print str(datetime.datetime.now())\n",
    "        watcher['last_link'][link] = True\n",
    "        time.sleep(.5)\n",
    "\n",
    "\n",
    "watchmen = [\n",
    "    {\n",
    "        'url': 'http://nypost.com/feed/',\n",
    "        'selector': get_nypost,\n",
    "    },\n",
    "    {\n",
    "        'url': 'http://www.citronresearch.com/feed',\n",
    "        'selector': get_rss,\n",
    "    },\n",
    "    {\n",
    "        'url': 'http://www.muddywatersresearch.com/feed/?post_type=reports',\n",
    "        'selector': get_rss,\n",
    "    },\n",
    "    {\n",
    "        'url': 'http://www.sprucepointcap.com/research/feed',\n",
    "        'selector': get_rss,\n",
    "    },\n",
    "    {\n",
    "        'url': 'http://www.presciencepoint.com/research/feed',\n",
    "        'selector': get_rss,\n",
    "    },\n",
    "    {\n",
    "        'url': 'http://www.fda.gov/AboutFDA/ContactFDA/StayInformed/RSSFeeds/PressReleases/rss.xml',\n",
    "        'selector': get_rss,\n",
    "    },\n",
    "    #{\n",
    "    #    'url': 'http://apps.shareholder.com/rss/rss.aspx?channels=7196&companyid=ABEA-4CW8X0&sh_auth=3100301180%2E0%2E0%2E42761%2Eb96f9d5de05fc54b98109cd0d905924d',\n",
    "    #    'selector': get_rss,\n",
    "    #}\n",
    "    {\n",
    "        'url': 'https://www.thestreet.com',\n",
    "        'selector': get_street,\n",
    "    },\n",
    "    {\n",
    "        'url': 'https://gothamcityresearch.com/research/',\n",
    "        'selector': get_gotham,\n",
    "    }\n",
    "]\n",
    "\n",
    "for watcher in watchmen:\n",
    "    watcher['last_link'] = {}\n",
    "    t = threading.Thread(target=loop, args=(watcher,))\n",
    "    t.daemon = True\n",
    "    t.start()\n",
    "\n",
    "while True:\n",
    "    time.sleep(1)"
   ]
  },
  {
   "cell_type": "code",
   "execution_count": 11,
   "metadata": {
    "collapsed": false
   },
   "outputs": [
    {
     "name": "stdout",
     "output_type": "stream",
     "text": [
      "https://www.thestreet.com/story/13968639/1/trump-wants-20-tax-on-mexican-imports-to-pay-for-wall.html Emily Stewart\n"
     ]
    }
   ],
   "source": [
    "import itertools\n",
    "from bs4 import BeautifulSoup\n",
    "import sys\n",
    "import time\n",
    "import requests\n",
    "import os\n",
    "import datetime\n",
    "import threading\n",
    "\n",
    "headers = {\n",
    "            'User-Agent': 'Mozilla/5.0 (Macintosh; Intel Mac OS X 10_12_2) AppleWebKit/537.36 (KHTML, like Gecko) Chrome/55.0.2883.95 Safari/537.36'\n",
    "            }\n",
    "url = 'https://www.thestreet.com'\n",
    "page = requests.get(url, headers = headers)\n",
    "soup = BeautifulSoup(page.text, 'html.parser')\n",
    "\n",
    "article = soup.find_all('div', {'class': 'news-list__item'})[0]\n",
    "link = article.find('a')['href']\n",
    "link = url+link\n",
    "author = article.find_all('div', {'class': 'news-list__author-name'})[0].text\n",
    "print link, author"
   ]
  },
  {
   "cell_type": "code",
   "execution_count": 16,
   "metadata": {
    "collapsed": false
   },
   "outputs": [
    {
     "name": "stdout",
     "output_type": "stream",
     "text": [
      "Emily Stewart wrote this ish 2017-01-26 21:05:58.568085\n"
     ]
    }
   ],
   "source": [
    "print '%s wrote this ish' %author, str(datetime.datetime.now())"
   ]
  },
  {
   "cell_type": "code",
   "execution_count": null,
   "metadata": {
    "collapsed": true
   },
   "outputs": [],
   "source": []
  }
 ],
 "metadata": {
  "kernelspec": {
   "display_name": "Python 2",
   "language": "python",
   "name": "python2"
  },
  "language_info": {
   "codemirror_mode": {
    "name": "ipython",
    "version": 2
   },
   "file_extension": ".py",
   "mimetype": "text/x-python",
   "name": "python",
   "nbconvert_exporter": "python",
   "pygments_lexer": "ipython2",
   "version": "2.7.10"
  }
 },
 "nbformat": 4,
 "nbformat_minor": 0
}
