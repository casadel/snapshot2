{
 "cells": [
  {
   "cell_type": "code",
   "execution_count": 1,
   "metadata": {
    "collapsed": false
   },
   "outputs": [],
   "source": [
    "import numpy as np\n",
    "import scipy as sp\n",
    "import pandas as pd\n",
    "pd.set_option('display.width', 500)\n",
    "pd.set_option('display.max_columns', 100)\n",
    "pd.set_option('display.notebook_repr_html', True)\n",
    "from numpy import random\n",
    "\n",
    "amexdf=pd.read_csv(\"AMEX.csv\")\n",
    "nysedf=pd.read_csv(\"NYSE.csv\")\n",
    "qqqdf=pd.read_csv(\"NASDAQ.csv\")\n",
    "\n",
    "amex_tix = amexdf.Symbol\n",
    "nyse_tix = nysedf.Symbol\n",
    "qqq_tix = qqqdf.Symbol\n",
    "\n",
    "tixlist = []\n",
    "exc_list = [amex_tix, nyse_tix, qqq_tix]\n",
    "for exc in exc_list:\n",
    "    for tick in exc:\n",
    "        tixlist.append(tick)\n",
    "\n",
    "wordlist = []\n",
    "for tick in tixlist:\n",
    "    string = str(tick)\n",
    "    carat = '^' in string\n",
    "    letters = string.isalpha()\n",
    "    if carat == False and letters == True:\n",
    "        wordlist.append(tick)\n",
    "        \n",
    "tix_doc = open('tix.txt', 'w')\n",
    "paragraph = random.choice(wordlist, 50)\n",
    "\n",
    "with open('tix.txt', 'w') as tix_doc:\n",
    "    for word in paragraph:\n",
    "        tick = str(word)\n",
    "        tix_doc.write(tick + ' ')"
   ]
  }
 ],
 "metadata": {
  "kernelspec": {
   "display_name": "Python 2",
   "language": "python",
   "name": "python2"
  },
  "language_info": {
   "codemirror_mode": {
    "name": "ipython",
    "version": 2
   },
   "file_extension": ".py",
   "mimetype": "text/x-python",
   "name": "python",
   "nbconvert_exporter": "python",
   "pygments_lexer": "ipython2",
   "version": "2.7.10"
  }
 },
 "nbformat": 4,
 "nbformat_minor": 0
}
