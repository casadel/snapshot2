{
 "cells": [
  {
   "cell_type": "code",
   "execution_count": 1,
   "metadata": {
    "collapsed": true
   },
   "outputs": [],
   "source": [
    "import itertools\n",
    "import numpy as np\n",
    "import pandas as pd\n",
    "pd.set_option('display.width', 500)\n",
    "pd.set_option('display.max_columns', 100)\n",
    "pd.set_option('display.notebook_repr_html', True)\n",
    "import requests\n",
    "import time\n",
    "from bs4 import BeautifulSoup\n",
    "import os"
   ]
  },
  {
   "cell_type": "code",
   "execution_count": 2,
   "metadata": {
    "collapsed": true
   },
   "outputs": [],
   "source": [
    "def get_nflx(link_dict):\n",
    "    while True:\n",
    "        page = requests.get(link_dict['NFLX'])\n",
    "        soup = BeautifulSoup(page.text, 'html.parser')\n",
    "        q3_html = soup.find_all('div', {'class': 'accBody'})[0]\n",
    "        docs = q3_html.find_all('a')\n",
    "        dwnload = []\n",
    "        found = False\n",
    "        for doc in docs:\n",
    "            if doc.text == 'Q316 Letter to shareholders':\n",
    "                link = doc['href']\n",
    "                found = True\n",
    "                break\n",
    "        if found:\n",
    "            break\n",
    "        time.sleep(1)\n",
    "    link = 'https://ir.netflix.com/' + link\n",
    "    cmd = \"open '%s'\" %link\n",
    "    os.system(cmd)"
   ]
  },
  {
   "cell_type": "code",
   "execution_count": 19,
   "metadata": {
    "collapsed": true
   },
   "outputs": [],
   "source": [
    "def get_amzn(link_dict):\n",
    "    while True:\n",
    "        page = requests.get(link_dict['AMZN'])\n",
    "        soup = BeautifulSoup(page.text, 'html.parser')\n",
    "        q3_html = soup.find_all('div', {'class': 'a-section article-copy'})[0]\n",
    "        docs = q3_html.find_all('a')\n",
    "        dwnload = []\n",
    "        found = False\n",
    "        for doc in docs:\n",
    "            if doc.text == 'Q3 2016 Financial Results':\n",
    "                link = doc['href']\n",
    "                found = True\n",
    "                break\n",
    "        if found:\n",
    "            break\n",
    "        time.sleep(1)\n",
    "    cmd = \"open '%s'\" %link\n",
    "    os.system(cmd)"
   ]
  },
  {
   "cell_type": "code",
   "execution_count": 16,
   "metadata": {
    "collapsed": true
   },
   "outputs": [],
   "source": [
    "def get_twtr(link_dict):\n",
    "    while True: \n",
    "        page = requests.get(link_dict['TWTR'])\n",
    "        soup = BeautifulSoup(page.text, 'html.parser')\n",
    "        q3_html = soup.find_all('div', {'class': 'ndq-expand-content'})[0]\n",
    "        docs = q3_html.find_all('a')\n",
    "        dwnload = []\n",
    "        found = False\n",
    "        for doc in docs:\n",
    "            if doc.text == \"Q3' 2016 Shareholder Letter\":\n",
    "                link = doc['href']\n",
    "                found = True\n",
    "                break\n",
    "        if found:\n",
    "            break\n",
    "        time.sleep(1)\n",
    "    link = 'https://investor.twitterinc.com/' + link\n",
    "    cmd = \"open '%s'\" %link\n",
    "    os.system(cmd)"
   ]
  },
  {
   "cell_type": "code",
   "execution_count": 20,
   "metadata": {
    "collapsed": false
   },
   "outputs": [],
   "source": [
    "tix = ['TWTR', 'TSLA', 'NFLX', 'AMZN', 'AAPL']\n",
    "links = ['https://investor.twitterinc.com/index.cfm', 'http://ir.tesla.com/', 'https://ir.netflix.com/results.cfm' ,'http://phx.corporate-ir.net/phoenix.zhtml?c=97664&p=irol-reportsOther', ]\n",
    "ir_dict = dict(zip(tix, links))\n",
    "\n",
    "get_amzn(ir_dict)"
   ]
  },
  {
   "cell_type": "code",
   "execution_count": null,
   "metadata": {
    "collapsed": true
   },
   "outputs": [],
   "source": []
  }
 ],
 "metadata": {
  "kernelspec": {
   "display_name": "Python 2",
   "language": "python",
   "name": "python2"
  },
  "language_info": {
   "codemirror_mode": {
    "name": "ipython",
    "version": 2
   },
   "file_extension": ".py",
   "mimetype": "text/x-python",
   "name": "python",
   "nbconvert_exporter": "python",
   "pygments_lexer": "ipython2",
   "version": "2.7.10"
  }
 },
 "nbformat": 4,
 "nbformat_minor": 0
}
